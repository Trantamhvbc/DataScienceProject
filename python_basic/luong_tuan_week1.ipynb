{
 "cells": [
  {
   "cell_type": "code",
   "execution_count": 1,
   "metadata": {},
   "outputs": [],
   "source": [
    "import random\n",
    "questions = {\n",
    "\"strong\": \"Do ye like yer drinks strong?\",\n",
    "\"salty\": \"Do ye like it with a salty tang?\",\n",
    "\"bitter\": \"Are ye a lubber who likes it bitter?\",\n",
    "\"sweet\": \"Would ye like a bit of sweetness with yer poison?\",\n",
    "\"fruity\": \"Are ye one for a fruity finish?\"\n",
    "}\n",
    "ingredients = {\n",
    "\"strong\": [\"glug of rum\", \"slug of whisky\", \"splash of gin\"],\n",
    "\"salty\": [\"olive on a stick\", \"salt-dusted rim\", \"rasher of bacon\"],\n",
    "\"bitter\": [\"shake of bitters\", \"splash of tonic\", \"twist of lemon peel\"],\n",
    "\"sweet\": [\"sugar cube\", \"spoonful of honey\", \"spash of cola\"],\n",
    "\"fruity\": [\"slice of orange\", \"dash of cassis\", \"cherry on top\"],\n",
    "}"
   ]
  },
  {
   "cell_type": "code",
   "execution_count": 2,
   "metadata": {},
   "outputs": [],
   "source": [
    "def check_opption(str_answer):\n",
    "    str_answer = str_answer.lower()\n",
    "    if str_answer == 'yes':\n",
    "        return 1\n",
    "    elif str_answer == 'no':\n",
    "        return 0\n",
    "    return -1\n"
   ]
  },
  {
   "cell_type": "code",
   "execution_count": 3,
   "metadata": {},
   "outputs": [],
   "source": [
    "def run():\n",
    "    selected = False \n",
    "    for question in questions:\n",
    "        while True:\n",
    "            print(questions[question])\n",
    "            str_answer = input()\n",
    "            resulf_check = check_opption(str_answer)\n",
    "            if resulf_check == -1:\n",
    "                print('pleas,enter yes or no <3')\n",
    "            elif resulf_check == 1:\n",
    "                beverage = random.choices(ingredients[question], k = 1)[0]\n",
    "                print('your beverage is {}'.format(beverage))\n",
    "                selected = True\n",
    "                break\n",
    "            else:\n",
    "                break\n",
    "        if selected :\n",
    "            break\n",
    "    print('thanks you so much')\n",
    "            \n",
    "            \n",
    "            "
   ]
  },
  {
   "cell_type": "code",
   "execution_count": 6,
   "metadata": {},
   "outputs": [
    {
     "name": "stdout",
     "output_type": "stream",
     "text": [
      "Do ye like yer drinks strong?\n",
      "no\n",
      "Do ye like it with a salty tang?\n",
      "no\n",
      "Are ye a lubber who likes it bitter?\n",
      "no\n",
      "Would ye like a bit of sweetness with yer poison?\n",
      "no\n",
      "Are ye one for a fruity finish?\n",
      "no\n",
      "thanks you so much\n"
     ]
    }
   ],
   "source": [
    "run()"
   ]
  },
  {
   "cell_type": "code",
   "execution_count": null,
   "metadata": {},
   "outputs": [],
   "source": []
  },
  {
   "cell_type": "code",
   "execution_count": null,
   "metadata": {},
   "outputs": [],
   "source": []
  }
 ],
 "metadata": {
  "kernelspec": {
   "display_name": "Python 3",
   "language": "python",
   "name": "python3"
  },
  "language_info": {
   "codemirror_mode": {
    "name": "ipython",
    "version": 3
   },
   "file_extension": ".py",
   "mimetype": "text/x-python",
   "name": "python",
   "nbconvert_exporter": "python",
   "pygments_lexer": "ipython3",
   "version": "3.6.9"
  }
 },
 "nbformat": 4,
 "nbformat_minor": 4
}
