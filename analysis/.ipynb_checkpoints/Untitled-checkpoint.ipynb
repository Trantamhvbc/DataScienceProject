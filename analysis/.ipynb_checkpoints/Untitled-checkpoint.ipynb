{
 "cells": [
  {
   "cell_type": "markdown",
   "metadata": {},
   "source": [
    "# Introduction about dataset\n",
    "Dataset get from the [kaggel](https://www.kaggle.com/pavansubhasht/ibm-hr-analytics-attrition-dataset)\n",
    "uncover the factors that lead to employee attrition and explore important questions such as ‘show me a breakdown of distance from home by job role and attrition’ or ‘compare average monthly income by education and attrition’. This is a fictional data set created by IBM data scientists.\n",
    "\n",
    "__attributes of data set:__\n",
    "* Age : Numerica \n",
    "* Attrition : Categorica\n",
    "* BusinessTravel : Categorica\n",
    "* DailyRate : Numerica \n",
    "* Department : Categorica\n",
    "* DistanceFromHome : Numerica\n",
    "* Education : Categorica\n",
    "* EducationField : Categorica\n",
    "* EmployeeCount : Numerica\n",
    "* EmployeeNumber : Numerica\n",
    "* EnvironmentSatisfaction : Categorica\n",
    "* Gender : Categorica\n",
    "* HourlyRate : Numerica\n",
    "* JobInvolvement : Categorica\n",
    "* JobLevel : Categorica\n",
    "* JobRole : Categorica\n",
    "* JobSatisfaction : Categorica\n",
    "* MaritalStatus : Categorica\n",
    "* MonthlyIncome : Numerica\n",
    "* MonthlyRate : Numerica\n",
    "* NumCompaniesWorked : Numerica\n",
    "* Over18 : Categorica\n",
    "* OverTime : Categorica\n",
    "* PercentSalaryHike : Numerica\n",
    "* PerformanceRating : Categorica\n",
    "* RelationshipSatisfaction : Categorica\n",
    "* StandardHours : Numerica\n",
    "* StockOptionLevel : Categorica\n",
    "* TotalWorkingYears : Numerica\n",
    "* TrainingTimesLastYear : Numerica\n",
    "* WorkLifeBalance : Categorica\n",
    "* YearsAtCompany : Numerica\n",
    "* YearsInCurrentRole : Numerica\n",
    "* YearsSinceLastPromotion : Numerica\n",
    "* YearsWithCurrManager: Numerica\n",
    "\n",
    "# Breakdown of this notebook:\n",
    "1. __Import library__\n",
    "2. __Read csv by pandas__\n",
    "3. __EDA:__\n",
    "    * size: shape\n",
    "    * Missing values\n",
    "    * descriptive statistic\n",
    "    * visualization (univariate, bivariate)\n",
    "    * correlation analysis\n",
    "4. __Clean data__\n",
    "5. __Hypothesis testing__\n",
    "6. __Answer some Question__\n",
    "    * What are key factors that are playing into current atrition rate?\n",
    "    * What are key factors that are playing into current satisfaction rates?\n",
    "    * When are employees leaving?"
   ]
  },
  {
   "cell_type": "markdown",
   "metadata": {},
   "source": [
    "# import librarys"
   ]
  },
  {
   "cell_type": "code",
   "execution_count": null,
   "metadata": {},
   "outputs": [],
   "source": [
    "import numpy as np\n",
    "import pandas as pd\n",
    "import matplotlib.pyplot as plt \n",
    "from qiskit.visualization import plot_histogram"
   ]
  },
  {
   "cell_type": "markdown",
   "metadata": {},
   "source": [
    "# Read data by pandas"
   ]
  },
  {
   "cell_type": "code",
   "execution_count": null,
   "metadata": {},
   "outputs": [],
   "source": [
    "df = pd.read_csv('WA_Fn-UseC_-HR-Employee-Attrition.csv')\n",
    "print(df.shape)\n",
    "print(df.columns)"
   ]
  },
  {
   "cell_type": "markdown",
   "metadata": {},
   "source": [
    "__This df have 1470 rows and 35 columns ( attributes ):__\n"
   ]
  },
  {
   "cell_type": "markdown",
   "metadata": {},
   "source": [
    "# Exploratory Data Analysis\n",
    "__step 1: check size of dataset__"
   ]
  },
  {
   "cell_type": "code",
   "execution_count": null,
   "metadata": {},
   "outputs": [],
   "source": [
    "print('df have size {}'.format(df.shape))"
   ]
  },
  {
   "cell_type": "markdown",
   "metadata": {},
   "source": [
    "__step 2: Missing values__"
   ]
  },
  {
   "cell_type": "code",
   "execution_count": null,
   "metadata": {},
   "outputs": [],
   "source": [
    "df.info()"
   ]
  },
  {
   "cell_type": "markdown",
   "metadata": {},
   "source": [
    "We can see \n",
    "* any attribute haven't  null values\n",
    "* 9 columns is object \n",
    "* 26 columns is int64 \n",
    "\n",
    "if column has categorica('int') dtype then pandas read it is int64. In other case it is str (object)  \n"
   ]
  },
  {
   "cell_type": "markdown",
   "metadata": {},
   "source": [
    "__step3: descriptive statistic__"
   ]
  },
  {
   "cell_type": "code",
   "execution_count": null,
   "metadata": {},
   "outputs": [],
   "source": [
    "df.describe(percentiles = [0.01,.1,.25,.5,.75,.9,.95,.99 ],)"
   ]
  },
  {
   "cell_type": "markdown",
   "metadata": {},
   "source": [
    "we can see: \n",
    "* all int64 attributes  min value >= 0\n",
    "* EmployeeCount,StandardHours have just a value. So we must ignore them\n",
    "* distribution is oki "
   ]
  },
  {
   "cell_type": "code",
   "execution_count": null,
   "metadata": {},
   "outputs": [],
   "source": [
    "df = df.drop(['EmployeeCount','StandardHours'],axis = 1)\n",
    "df.describe(include = 'O')"
   ]
  },
  {
   "cell_type": "markdown",
   "metadata": {},
   "source": [
    "This table show:\n",
    "* Over18 all value is 'Y' so  remove Over18 \n",
    "* Attrition most value is 1233 = 84% rows"
   ]
  },
  {
   "cell_type": "code",
   "execution_count": null,
   "metadata": {},
   "outputs": [],
   "source": [
    "df = df.drop(['Over18'],axis=1)\n",
    "Nunique = df.nunique()\n",
    "Nunique = Nunique.sort_values()\n",
    "Nunique"
   ]
  },
  {
   "cell_type": "markdown",
   "metadata": {},
   "source": [
    "__step 4: visualizations__"
   ]
  },
  {
   "cell_type": "markdown",
   "metadata": {},
   "source": [
    "Check attributes have unit > 500 and if it is categorica then we  will ignore them \n",
    "\n",
    "but all of attributes have unit > 500 are numberic "
   ]
  },
  {
   "cell_type": "code",
   "execution_count": null,
   "metadata": {},
   "outputs": [],
   "source": [
    "from matplotlib import colors\n",
    "from matplotlib.ticker import PercentFormatter\n",
    "n_bin = 20\n",
    "plt.hist(df.Age.values,bins = n_bin)\n",
    "plt.show()"
   ]
  },
  {
   "cell_type": "markdown",
   "metadata": {},
   "source": [
    "Age's distribution is normal distribution. almost employees have 35 year old"
   ]
  },
  {
   "cell_type": "code",
   "execution_count": null,
   "metadata": {},
   "outputs": [],
   "source": []
  },
  {
   "cell_type": "code",
   "execution_count": null,
   "metadata": {},
   "outputs": [],
   "source": []
  }
 ],
 "metadata": {
  "kernelspec": {
   "display_name": "Python 3",
   "language": "python",
   "name": "python3"
  },
  "language_info": {
   "codemirror_mode": {
    "name": "ipython",
    "version": 3
   },
   "file_extension": ".py",
   "mimetype": "text/x-python",
   "name": "python",
   "nbconvert_exporter": "python",
   "pygments_lexer": "ipython3",
   "version": "3.6.9"
  }
 },
 "nbformat": 4,
 "nbformat_minor": 4
}
