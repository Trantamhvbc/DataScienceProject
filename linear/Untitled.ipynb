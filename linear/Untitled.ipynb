{
 "cells": [
  {
   "cell_type": "markdown",
   "metadata": {},
   "source": [
    "# 1) Introduction:\n",
    "This is report assgnment using dataset [Melbourne Housing dataset](https://www.kaggle.com/anthonypino/melbourne-housing-market)  \n",
    "\n",
    "__Some Keys Detail__\n",
    "\n",
    "Suburb: Suburb\n",
    "\n",
    "Address: Address\n",
    "\n",
    "Rooms: Number of rooms\n",
    "\n",
    "Price: Price in Australian dollars\n",
    "\n",
    "Method:\n",
    "* S - property sold;\n",
    "* SP - property sold prior;\n",
    "* PI - property passed in;\n",
    "* PN - sold prior not disclosed;\n",
    "* SN - sold not disclosed;\n",
    "* NB - no bid;\n",
    "* VB - vendor bid;\n",
    "* W - withdrawn prior to auction;\n",
    "* SA - sold after auction;\n",
    "* SS - sold after auction price not disclosed.\n",
    "* N/A - price or highest bid not available.\n",
    "\n",
    "Type:\n",
    "* br - bedroom(s);\n",
    "* h - house,cottage,villa, semi,terrace;\n",
    "* u - unit, duplex;\n",
    "* t - townhouse;\n",
    "* dev site - development site;\n",
    "* o res - other residential.\n",
    "\n",
    "SellerG: Real Estate Agent\n",
    "\n",
    "Date: Date sold\n",
    "\n",
    "Distance: Distance from CBD in Kilometres\n",
    "\n",
    "Regionname: General Region (West, North West, North, North east …etc)\n",
    "\n",
    "Propertycount: Number of properties that exist in the suburb.\n",
    "\n",
    "Bedroom2 : Scraped # of Bedrooms (from different source)\n",
    "\n",
    "Bathroom: Number of Bathrooms\n",
    "\n",
    "Car: Number of carspots\n",
    "\n",
    "Landsize: Land Size in Metres\n",
    "\n",
    "BuildingArea: Building Size in Metres\n",
    "\n",
    "YearBuilt: Year the house was built\n",
    "\n",
    "CouncilArea: Governing council for the area\n",
    "\n",
    "Lattitude: Self explanitory\n",
    "\n",
    "Longtitude: Self explanitory\n",
    "# 2) Task:\n",
    "   1. Examine and explore data (visualization, interactions among features)\n",
    "   2. Apply the model for prediction with holdout and cross validation\n",
    "   3. Using PCA, apply the model with holdout and cross validation\n",
    "   4. Visualize the residue and homoscedasticity\n",
    "   5. Tune the model if necessary\n",
    "   6. Write up analysis for each section (for example, explain why the model is overfitting, explain why applying PCA is better,etc.)\n",
    "   7. Include conclusions for summary"
   ]
  },
  {
   "cell_type": "markdown",
   "metadata": {},
   "source": [
    "# Import Library"
   ]
  },
  {
   "cell_type": "code",
   "execution_count": 63,
   "metadata": {},
   "outputs": [],
   "source": [
    "import pandas as pd\n",
    "\n",
    "import seaborn as sns"
   ]
  },
  {
   "cell_type": "code",
   "execution_count": 64,
   "metadata": {},
   "outputs": [
    {
     "data": {
      "text/plain": [
       "Index(['Suburb', 'Address', 'Rooms', 'Type', 'Price', 'Method', 'SellerG',\n",
       "       'Date', 'Postcode', 'Regionname', 'Propertycount', 'Distance',\n",
       "       'CouncilArea'],\n",
       "      dtype='object')"
      ]
     },
     "execution_count": 64,
     "metadata": {},
     "output_type": "execute_result"
    }
   ],
   "source": [
    "df = pd.read_csv('MELBOURNE_HOUSE_PRICES_LESS.csv')\n",
    "df.shape\n",
    "df.columns"
   ]
  },
  {
   "cell_type": "markdown",
   "metadata": {},
   "source": [
    "the Postcode has not appeared on some Keys Detail "
   ]
  },
  {
   "cell_type": "code",
   "execution_count": 77,
   "metadata": {},
   "outputs": [
    {
     "data": {
      "text/plain": [
       "Index(['Suburb', 'Address', 'Rooms', 'Type', 'Price', 'Method', 'SellerG',\n",
       "       'Date', 'Regionname', 'Propertycount', 'Distance', 'CouncilArea'],\n",
       "      dtype='object')"
      ]
     },
     "execution_count": 77,
     "metadata": {},
     "output_type": "execute_result"
    }
   ],
   "source": [
    "df = df.drop(['Postcode'],axis = 1)\n",
    "df.columns"
   ]
  },
  {
   "cell_type": "markdown",
   "metadata": {},
   "source": [
    "# Exploratory Data Analysis\n",
    "__step 1: check size of dataset__"
   ]
  },
  {
   "cell_type": "code",
   "execution_count": 78,
   "metadata": {},
   "outputs": [
    {
     "name": "stdout",
     "output_type": "stream",
     "text": [
      "df have size (48433, 12)\n"
     ]
    }
   ],
   "source": [
    "print('df have size {}'.format(df.shape))"
   ]
  },
  {
   "cell_type": "markdown",
   "metadata": {},
   "source": [
    "__step 2: Missing values__"
   ]
  },
  {
   "cell_type": "code",
   "execution_count": 79,
   "metadata": {},
   "outputs": [
    {
     "data": {
      "text/plain": [
       "Suburb           0\n",
       "Address          0\n",
       "Rooms            0\n",
       "Type             0\n",
       "Price            0\n",
       "Method           0\n",
       "SellerG          0\n",
       "Date             0\n",
       "Regionname       0\n",
       "Propertycount    0\n",
       "Distance         0\n",
       "CouncilArea      0\n",
       "dtype: int64"
      ]
     },
     "execution_count": 79,
     "metadata": {},
     "output_type": "execute_result"
    }
   ],
   "source": [
    "df.isna().sum()\n"
   ]
  },
  {
   "cell_type": "markdown",
   "metadata": {},
   "source": [
    "the Price have 14590 is NONE values. and because the Price is target attribute so we must drop rows is nan"
   ]
  },
  {
   "cell_type": "code",
   "execution_count": 80,
   "metadata": {},
   "outputs": [
    {
     "name": "stdout",
     "output_type": "stream",
     "text": [
      "Suburb           0\n",
      "Address          0\n",
      "Rooms            0\n",
      "Type             0\n",
      "Price            0\n",
      "Method           0\n",
      "SellerG          0\n",
      "Date             0\n",
      "Regionname       0\n",
      "Propertycount    0\n",
      "Distance         0\n",
      "CouncilArea      0\n",
      "dtype: int64\n",
      "(48433, 12)\n",
      "<class 'pandas.core.frame.DataFrame'>\n",
      "Int64Index: 48433 entries, 0 to 63020\n",
      "Data columns (total 12 columns):\n",
      " #   Column         Non-Null Count  Dtype  \n",
      "---  ------         --------------  -----  \n",
      " 0   Suburb         48433 non-null  object \n",
      " 1   Address        48433 non-null  object \n",
      " 2   Rooms          48433 non-null  int64  \n",
      " 3   Type           48433 non-null  object \n",
      " 4   Price          48433 non-null  float64\n",
      " 5   Method         48433 non-null  object \n",
      " 6   SellerG        48433 non-null  object \n",
      " 7   Date           48433 non-null  object \n",
      " 8   Regionname     48433 non-null  object \n",
      " 9   Propertycount  48433 non-null  int64  \n",
      " 10  Distance       48433 non-null  float64\n",
      " 11  CouncilArea    48433 non-null  object \n",
      "dtypes: float64(2), int64(2), object(8)\n",
      "memory usage: 4.8+ MB\n"
     ]
    }
   ],
   "source": [
    "df.dropna(subset = [\"Price\"], inplace=True)\n",
    "print(df.isna().sum())\n",
    "print(df.shape)\n",
    "df.info()"
   ]
  },
  {
   "cell_type": "markdown",
   "metadata": {},
   "source": [
    "affter remove some rows, We check size of dataset\n",
    "\n",
    "We can see \n",
    "* any attribute haven't  null values\n",
    "* 8 columns is object \n",
    "* 3 columns is int64\n",
    "* 2 columns is int64"
   ]
  },
  {
   "cell_type": "markdown",
   "metadata": {},
   "source": [
    "__step3: descriptive statistic__"
   ]
  },
  {
   "cell_type": "code",
   "execution_count": 81,
   "metadata": {},
   "outputs": [
    {
     "data": {
      "text/html": [
       "<div>\n",
       "<style scoped>\n",
       "    .dataframe tbody tr th:only-of-type {\n",
       "        vertical-align: middle;\n",
       "    }\n",
       "\n",
       "    .dataframe tbody tr th {\n",
       "        vertical-align: top;\n",
       "    }\n",
       "\n",
       "    .dataframe thead th {\n",
       "        text-align: right;\n",
       "    }\n",
       "</style>\n",
       "<table border=\"1\" class=\"dataframe\">\n",
       "  <thead>\n",
       "    <tr style=\"text-align: right;\">\n",
       "      <th></th>\n",
       "      <th>Rooms</th>\n",
       "      <th>Price</th>\n",
       "      <th>Propertycount</th>\n",
       "      <th>Distance</th>\n",
       "    </tr>\n",
       "  </thead>\n",
       "  <tbody>\n",
       "    <tr>\n",
       "      <th>count</th>\n",
       "      <td>48433.000000</td>\n",
       "      <td>4.843300e+04</td>\n",
       "      <td>48433.000000</td>\n",
       "      <td>48433.000000</td>\n",
       "    </tr>\n",
       "    <tr>\n",
       "      <th>mean</th>\n",
       "      <td>3.071666</td>\n",
       "      <td>9.978982e+05</td>\n",
       "      <td>7566.399913</td>\n",
       "      <td>12.702761</td>\n",
       "    </tr>\n",
       "    <tr>\n",
       "      <th>std</th>\n",
       "      <td>0.944708</td>\n",
       "      <td>5.934989e+05</td>\n",
       "      <td>4457.405884</td>\n",
       "      <td>7.550030</td>\n",
       "    </tr>\n",
       "    <tr>\n",
       "      <th>min</th>\n",
       "      <td>1.000000</td>\n",
       "      <td>8.500000e+04</td>\n",
       "      <td>39.000000</td>\n",
       "      <td>0.000000</td>\n",
       "    </tr>\n",
       "    <tr>\n",
       "      <th>1%</th>\n",
       "      <td>1.000000</td>\n",
       "      <td>3.120000e+05</td>\n",
       "      <td>852.000000</td>\n",
       "      <td>1.800000</td>\n",
       "    </tr>\n",
       "    <tr>\n",
       "      <th>10%</th>\n",
       "      <td>2.000000</td>\n",
       "      <td>4.800400e+05</td>\n",
       "      <td>2674.000000</td>\n",
       "      <td>4.300000</td>\n",
       "    </tr>\n",
       "    <tr>\n",
       "      <th>25%</th>\n",
       "      <td>2.000000</td>\n",
       "      <td>6.200000e+05</td>\n",
       "      <td>4280.000000</td>\n",
       "      <td>7.000000</td>\n",
       "    </tr>\n",
       "    <tr>\n",
       "      <th>50%</th>\n",
       "      <td>3.000000</td>\n",
       "      <td>8.300000e+05</td>\n",
       "      <td>6567.000000</td>\n",
       "      <td>11.700000</td>\n",
       "    </tr>\n",
       "    <tr>\n",
       "      <th>75%</th>\n",
       "      <td>4.000000</td>\n",
       "      <td>1.220000e+06</td>\n",
       "      <td>10412.000000</td>\n",
       "      <td>16.700000</td>\n",
       "    </tr>\n",
       "    <tr>\n",
       "      <th>90%</th>\n",
       "      <td>4.000000</td>\n",
       "      <td>1.700000e+06</td>\n",
       "      <td>14577.000000</td>\n",
       "      <td>21.500000</td>\n",
       "    </tr>\n",
       "    <tr>\n",
       "      <th>95%</th>\n",
       "      <td>5.000000</td>\n",
       "      <td>2.100000e+06</td>\n",
       "      <td>15510.000000</td>\n",
       "      <td>26.500000</td>\n",
       "    </tr>\n",
       "    <tr>\n",
       "      <th>99%</th>\n",
       "      <td>5.000000</td>\n",
       "      <td>3.200000e+06</td>\n",
       "      <td>21650.000000</td>\n",
       "      <td>38.000000</td>\n",
       "    </tr>\n",
       "    <tr>\n",
       "      <th>max</th>\n",
       "      <td>31.000000</td>\n",
       "      <td>1.120000e+07</td>\n",
       "      <td>21650.000000</td>\n",
       "      <td>55.800000</td>\n",
       "    </tr>\n",
       "  </tbody>\n",
       "</table>\n",
       "</div>"
      ],
      "text/plain": [
       "              Rooms         Price  Propertycount      Distance\n",
       "count  48433.000000  4.843300e+04   48433.000000  48433.000000\n",
       "mean       3.071666  9.978982e+05    7566.399913     12.702761\n",
       "std        0.944708  5.934989e+05    4457.405884      7.550030\n",
       "min        1.000000  8.500000e+04      39.000000      0.000000\n",
       "1%         1.000000  3.120000e+05     852.000000      1.800000\n",
       "10%        2.000000  4.800400e+05    2674.000000      4.300000\n",
       "25%        2.000000  6.200000e+05    4280.000000      7.000000\n",
       "50%        3.000000  8.300000e+05    6567.000000     11.700000\n",
       "75%        4.000000  1.220000e+06   10412.000000     16.700000\n",
       "90%        4.000000  1.700000e+06   14577.000000     21.500000\n",
       "95%        5.000000  2.100000e+06   15510.000000     26.500000\n",
       "99%        5.000000  3.200000e+06   21650.000000     38.000000\n",
       "max       31.000000  1.120000e+07   21650.000000     55.800000"
      ]
     },
     "execution_count": 81,
     "metadata": {},
     "output_type": "execute_result"
    }
   ],
   "source": [
    "df.describe(percentiles = [0.01,.1,.25,.5,.75,.9,.95,.99 ])"
   ]
  },
  {
   "cell_type": "markdown",
   "metadata": {},
   "source": [
    "Did n't see anything out of the ordinary"
   ]
  },
  {
   "cell_type": "code",
   "execution_count": 82,
   "metadata": {},
   "outputs": [
    {
     "data": {
      "text/html": [
       "<div>\n",
       "<style scoped>\n",
       "    .dataframe tbody tr th:only-of-type {\n",
       "        vertical-align: middle;\n",
       "    }\n",
       "\n",
       "    .dataframe tbody tr th {\n",
       "        vertical-align: top;\n",
       "    }\n",
       "\n",
       "    .dataframe thead th {\n",
       "        text-align: right;\n",
       "    }\n",
       "</style>\n",
       "<table border=\"1\" class=\"dataframe\">\n",
       "  <thead>\n",
       "    <tr style=\"text-align: right;\">\n",
       "      <th></th>\n",
       "      <th>Suburb</th>\n",
       "      <th>Address</th>\n",
       "      <th>Type</th>\n",
       "      <th>Method</th>\n",
       "      <th>SellerG</th>\n",
       "      <th>Date</th>\n",
       "      <th>Regionname</th>\n",
       "      <th>CouncilArea</th>\n",
       "    </tr>\n",
       "  </thead>\n",
       "  <tbody>\n",
       "    <tr>\n",
       "      <th>count</th>\n",
       "      <td>48433</td>\n",
       "      <td>48433</td>\n",
       "      <td>48433</td>\n",
       "      <td>48433</td>\n",
       "      <td>48433</td>\n",
       "      <td>48433</td>\n",
       "      <td>48433</td>\n",
       "      <td>48433</td>\n",
       "    </tr>\n",
       "    <tr>\n",
       "      <th>unique</th>\n",
       "      <td>370</td>\n",
       "      <td>44739</td>\n",
       "      <td>3</td>\n",
       "      <td>5</td>\n",
       "      <td>422</td>\n",
       "      <td>112</td>\n",
       "      <td>8</td>\n",
       "      <td>34</td>\n",
       "    </tr>\n",
       "    <tr>\n",
       "      <th>top</th>\n",
       "      <td>Reservoir</td>\n",
       "      <td>14 Northcote St</td>\n",
       "      <td>h</td>\n",
       "      <td>S</td>\n",
       "      <td>Barry</td>\n",
       "      <td>24/03/2018</td>\n",
       "      <td>Northern Metropolitan</td>\n",
       "      <td>Darebin City Council</td>\n",
       "    </tr>\n",
       "    <tr>\n",
       "      <th>freq</th>\n",
       "      <td>1067</td>\n",
       "      <td>7</td>\n",
       "      <td>34161</td>\n",
       "      <td>30624</td>\n",
       "      <td>4818</td>\n",
       "      <td>880</td>\n",
       "      <td>13598</td>\n",
       "      <td>3462</td>\n",
       "    </tr>\n",
       "  </tbody>\n",
       "</table>\n",
       "</div>"
      ],
      "text/plain": [
       "           Suburb          Address   Type Method SellerG        Date  \\\n",
       "count       48433            48433  48433  48433   48433       48433   \n",
       "unique        370            44739      3      5     422         112   \n",
       "top     Reservoir  14 Northcote St      h      S   Barry  24/03/2018   \n",
       "freq         1067                7  34161  30624    4818         880   \n",
       "\n",
       "                   Regionname           CouncilArea  \n",
       "count                   48433                 48433  \n",
       "unique                      8                    34  \n",
       "top     Northern Metropolitan  Darebin City Council  \n",
       "freq                    13598                  3462  "
      ]
     },
     "execution_count": 82,
     "metadata": {},
     "output_type": "execute_result"
    }
   ],
   "source": [
    "df.describe(include = 'O')"
   ]
  },
  {
   "cell_type": "markdown",
   "metadata": {},
   "source": [
    "we can see:\n",
    "* the Address has  unique very hight.\n",
    "*  SellerG and Suburb have unique hight"
   ]
  },
  {
   "cell_type": "code",
   "execution_count": 86,
   "metadata": {},
   "outputs": [
    {
     "data": {
      "text/html": [
       "<div>\n",
       "<style scoped>\n",
       "    .dataframe tbody tr th:only-of-type {\n",
       "        vertical-align: middle;\n",
       "    }\n",
       "\n",
       "    .dataframe tbody tr th {\n",
       "        vertical-align: top;\n",
       "    }\n",
       "\n",
       "    .dataframe thead th {\n",
       "        text-align: right;\n",
       "    }\n",
       "</style>\n",
       "<table border=\"1\" class=\"dataframe\">\n",
       "  <thead>\n",
       "    <tr style=\"text-align: right;\">\n",
       "      <th></th>\n",
       "      <th>Rooms</th>\n",
       "      <th>Price</th>\n",
       "      <th>Propertycount</th>\n",
       "      <th>Distance</th>\n",
       "    </tr>\n",
       "  </thead>\n",
       "  <tbody>\n",
       "    <tr>\n",
       "      <th>Rooms</th>\n",
       "      <td>1.000000</td>\n",
       "      <td>0.412438</td>\n",
       "      <td>-0.057378</td>\n",
       "      <td>0.278666</td>\n",
       "    </tr>\n",
       "    <tr>\n",
       "      <th>Price</th>\n",
       "      <td>0.412438</td>\n",
       "      <td>1.000000</td>\n",
       "      <td>-0.060769</td>\n",
       "      <td>-0.253668</td>\n",
       "    </tr>\n",
       "    <tr>\n",
       "      <th>Propertycount</th>\n",
       "      <td>-0.057378</td>\n",
       "      <td>-0.060769</td>\n",
       "      <td>1.000000</td>\n",
       "      <td>0.007633</td>\n",
       "    </tr>\n",
       "    <tr>\n",
       "      <th>Distance</th>\n",
       "      <td>0.278666</td>\n",
       "      <td>-0.253668</td>\n",
       "      <td>0.007633</td>\n",
       "      <td>1.000000</td>\n",
       "    </tr>\n",
       "  </tbody>\n",
       "</table>\n",
       "</div>"
      ],
      "text/plain": [
       "                  Rooms     Price  Propertycount  Distance\n",
       "Rooms          1.000000  0.412438      -0.057378  0.278666\n",
       "Price          0.412438  1.000000      -0.060769 -0.253668\n",
       "Propertycount -0.057378 -0.060769       1.000000  0.007633\n",
       "Distance       0.278666 -0.253668       0.007633  1.000000"
      ]
     },
     "execution_count": 86,
     "metadata": {},
     "output_type": "execute_result"
    }
   ],
   "source": [
    "df_numberic = df[['Rooms','Price','Propertycount','Distance']] \n",
    "df_numberic.corr()"
   ]
  },
  {
   "cell_type": "code",
   "execution_count": 84,
   "metadata": {},
   "outputs": [
    {
     "data": {
      "image/png": "[encoded data removed]",
      "text/plain": [
       "<Figure size 432x288 with 1 Axes>"
      ]
     },
     "metadata": {
      "needs_background": "light"
     },
     "output_type": "display_data"
    }
   ],
   "source": [
    "import matplotlib.pyplot as plt\n",
    "plt.scatter(x = df_numberic.Rooms.values , y = df_numberic.Price.values )\n",
    "plt.show()\n"
   ]
  },
  {
   "cell_type": "markdown",
   "metadata": {},
   "source": [
    "the data focus on the number of rooms is 4."
   ]
  },
  {
   "cell_type": "code",
   "execution_count": 87,
   "metadata": {},
   "outputs": [
    {
     "data": {
      "image/png": "[encoded data removed]",
      "text/plain": [
       "<Figure size 432x288 with 1 Axes>"
      ]
     },
     "metadata": {
      "needs_background": "light"
     },
     "output_type": "display_data"
    }
   ],
   "source": [
    "plt.scatter(x = df_numberic.Propertycount.values , y = df_numberic.Price.values )\n",
    "plt.show()\n"
   ]
  },
  {
   "cell_type": "code",
   "execution_count": 89,
   "metadata": {},
   "outputs": [
    {
     "data": {
      "image/png": "[encoded data removed]",
      "text/plain": [
       "<Figure size 432x288 with 1 Axes>"
      ]
     },
     "metadata": {
      "needs_background": "light"
     },
     "output_type": "display_data"
    }
   ],
   "source": [
    "plt.scatter(x = df_numberic.Distance.values , y = df_numberic.Price.values )\n",
    "plt.show()\n"
   ]
  },
  {
   "cell_type": "code",
   "execution_count": null,
   "metadata": {},
   "outputs": [],
   "source": []
  }
 ],
 "metadata": {
  "kernelspec": {
   "display_name": "Python 3",
   "language": "python",
   "name": "python3"
  },
  "language_info": {
   "codemirror_mode": {
    "name": "ipython",
    "version": 3
   },
   "file_extension": ".py",
   "mimetype": "text/x-python",
   "name": "python",
   "nbconvert_exporter": "python",
   "pygments_lexer": "ipython3",
   "version": "3.6.9"
  }
 },
 "nbformat": 4,
 "nbformat_minor": 4
}
