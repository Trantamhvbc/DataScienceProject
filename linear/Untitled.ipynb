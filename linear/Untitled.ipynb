{
 "cells": [
  {
   "cell_type": "markdown",
   "metadata": {},
   "source": [
    "# 1) Introduction:\n",
    "This is report assgnment using dataset [Melbourne Housing dataset](https://www.kaggle.com/anthonypino/melbourne-housing-market)  \n",
    "\n",
    "__Some Keys Detail__\n",
    "\n",
    "Suburb: Suburb\n",
    "\n",
    "Address: Address\n",
    "\n",
    "Rooms: Number of rooms\n",
    "\n",
    "Price: Price in Australian dollars\n",
    "\n",
    "Method:\n",
    "* S - property sold;\n",
    "* SP - property sold prior;\n",
    "* PI - property passed in;\n",
    "* PN - sold prior not disclosed;\n",
    "* SN - sold not disclosed;\n",
    "* NB - no bid;\n",
    "* VB - vendor bid;\n",
    "* W - withdrawn prior to auction;\n",
    "* SA - sold after auction;\n",
    "* SS - sold after auction price not disclosed.\n",
    "* N/A - price or highest bid not available.\n",
    "\n",
    "Type:\n",
    "* br - bedroom(s);\n",
    "* h - house,cottage,villa, semi,terrace;\n",
    "* u - unit, duplex;\n",
    "* t - townhouse;\n",
    "* dev site - development site;\n",
    "* o res - other residential.\n",
    "\n",
    "SellerG: Real Estate Agent\n",
    "\n",
    "Date: Date sold\n",
    "\n",
    "Distance: Distance from CBD in Kilometres\n",
    "\n",
    "Regionname: General Region (West, North West, North, North east …etc)\n",
    "\n",
    "Propertycount: Number of properties that exist in the suburb.\n",
    "\n",
    "Bedroom2 : Scraped # of Bedrooms (from different source)\n",
    "\n",
    "Bathroom: Number of Bathrooms\n",
    "\n",
    "Car: Number of carspots\n",
    "\n",
    "Landsize: Land Size in Metres\n",
    "\n",
    "BuildingArea: Building Size in Metres\n",
    "\n",
    "YearBuilt: Year the house was built\n",
    "\n",
    "CouncilArea: Governing council for the area\n",
    "\n",
    "Lattitude: Self explanitory\n",
    "\n",
    "Longtitude: Self explanitory\n",
    "# 2) Task:\n",
    "   1. Examine and explore data (visualization, interactions among features)\n",
    "   2. Apply the model for prediction with holdout and cross validation\n",
    "   3. Using PCA, apply the model with holdout and cross validation\n",
    "   4. Visualize the residue and homoscedasticity\n",
    "   5. Tune the model if necessary\n",
    "   6. Write up analysis for each section (for example, explain why the model is overfitting, explain why applying PCA is better,etc.)\n",
    "   7. Include conclusions for summary"
   ]
  },
  {
   "cell_type": "markdown",
   "metadata": {},
   "source": [
    "# Import Library"
   ]
  },
  {
   "cell_type": "code",
   "execution_count": 115,
   "metadata": {},
   "outputs": [],
   "source": [
    "import pandas as pd\n",
    "import seaborn as sns\n",
    "import matplotlib.pyplot as plt\n",
    "import numpy as np"
   ]
  },
  {
   "cell_type": "code",
   "execution_count": 116,
   "metadata": {},
   "outputs": [
    {
     "data": {
      "text/plain": [
       "Index(['Suburb', 'Address', 'Rooms', 'Type', 'Price', 'Method', 'SellerG',\n",
       "       'Date', 'Postcode', 'Regionname', 'Propertycount', 'Distance',\n",
       "       'CouncilArea'],\n",
       "      dtype='object')"
      ]
     },
     "execution_count": 116,
     "metadata": {},
     "output_type": "execute_result"
    }
   ],
   "source": [
    "df = pd.read_csv('MELBOURNE_HOUSE_PRICES_LESS.csv')\n",
    "df.shape\n",
    "df.columns"
   ]
  },
  {
   "cell_type": "markdown",
   "metadata": {},
   "source": [
    "the Postcode has not appeared on some Keys Detail "
   ]
  },
  {
   "cell_type": "code",
   "execution_count": 117,
   "metadata": {},
   "outputs": [
    {
     "data": {
      "text/plain": [
       "Index(['Suburb', 'Address', 'Rooms', 'Type', 'Price', 'Method', 'SellerG',\n",
       "       'Date', 'Regionname', 'Propertycount', 'Distance', 'CouncilArea'],\n",
       "      dtype='object')"
      ]
     },
     "execution_count": 117,
     "metadata": {},
     "output_type": "execute_result"
    }
   ],
   "source": [
    "df = df.drop(['Postcode'],axis = 1)\n",
    "df.columns"
   ]
  },
  {
   "cell_type": "markdown",
   "metadata": {},
   "source": [
    "# Exploratory Data Analysis\n",
    "__step 1: check size of dataset__"
   ]
  },
  {
   "cell_type": "code",
   "execution_count": 118,
   "metadata": {},
   "outputs": [
    {
     "name": "stdout",
     "output_type": "stream",
     "text": [
      "df have size (63023, 12)\n"
     ]
    }
   ],
   "source": [
    "print('df have size {}'.format(df.shape))"
   ]
  },
  {
   "cell_type": "markdown",
   "metadata": {},
   "source": [
    "__step 2: Missing values__"
   ]
  },
  {
   "cell_type": "code",
   "execution_count": 119,
   "metadata": {},
   "outputs": [
    {
     "data": {
      "text/plain": [
       "Suburb               0\n",
       "Address              0\n",
       "Rooms                0\n",
       "Type                 0\n",
       "Price            14590\n",
       "Method               0\n",
       "SellerG              0\n",
       "Date                 0\n",
       "Regionname           0\n",
       "Propertycount        0\n",
       "Distance             0\n",
       "CouncilArea          0\n",
       "dtype: int64"
      ]
     },
     "execution_count": 119,
     "metadata": {},
     "output_type": "execute_result"
    }
   ],
   "source": [
    "df.isna().sum()\n"
   ]
  },
  {
   "cell_type": "markdown",
   "metadata": {},
   "source": [
    "the Price have 14590 is NONE values. and because the Price is target attribute so we must drop rows is nan"
   ]
  },
  {
   "cell_type": "code",
   "execution_count": 120,
   "metadata": {},
   "outputs": [
    {
     "name": "stdout",
     "output_type": "stream",
     "text": [
      "Suburb           0\n",
      "Address          0\n",
      "Rooms            0\n",
      "Type             0\n",
      "Price            0\n",
      "Method           0\n",
      "SellerG          0\n",
      "Date             0\n",
      "Regionname       0\n",
      "Propertycount    0\n",
      "Distance         0\n",
      "CouncilArea      0\n",
      "dtype: int64\n",
      "(48433, 12)\n",
      "<class 'pandas.core.frame.DataFrame'>\n",
      "Int64Index: 48433 entries, 0 to 63020\n",
      "Data columns (total 12 columns):\n",
      " #   Column         Non-Null Count  Dtype  \n",
      "---  ------         --------------  -----  \n",
      " 0   Suburb         48433 non-null  object \n",
      " 1   Address        48433 non-null  object \n",
      " 2   Rooms          48433 non-null  int64  \n",
      " 3   Type           48433 non-null  object \n",
      " 4   Price          48433 non-null  float64\n",
      " 5   Method         48433 non-null  object \n",
      " 6   SellerG        48433 non-null  object \n",
      " 7   Date           48433 non-null  object \n",
      " 8   Regionname     48433 non-null  object \n",
      " 9   Propertycount  48433 non-null  int64  \n",
      " 10  Distance       48433 non-null  float64\n",
      " 11  CouncilArea    48433 non-null  object \n",
      "dtypes: float64(2), int64(2), object(8)\n",
      "memory usage: 4.8+ MB\n"
     ]
    }
   ],
   "source": [
    "df.dropna(subset = [\"Price\"], inplace=True)\n",
    "print(df.isna().sum())\n",
    "print(df.shape)\n",
    "df.info()"
   ]
  },
  {
   "cell_type": "markdown",
   "metadata": {},
   "source": [
    "affter remove some rows, We check size of dataset\n",
    "\n",
    "We can see \n",
    "* any attribute haven't  null values\n",
    "* 8 columns is object \n",
    "* 3 columns is int64\n",
    "* 2 columns is int64"
   ]
  },
  {
   "cell_type": "markdown",
   "metadata": {},
   "source": [
    "__step3: descriptive statistic__"
   ]
  },
  {
   "cell_type": "code",
   "execution_count": 121,
   "metadata": {},
   "outputs": [
    {
     "data": {
      "text/html": [
       "<div>\n",
       "<style scoped>\n",
       "    .dataframe tbody tr th:only-of-type {\n",
       "        vertical-align: middle;\n",
       "    }\n",
       "\n",
       "    .dataframe tbody tr th {\n",
       "        vertical-align: top;\n",
       "    }\n",
       "\n",
       "    .dataframe thead th {\n",
       "        text-align: right;\n",
       "    }\n",
       "</style>\n",
       "<table border=\"1\" class=\"dataframe\">\n",
       "  <thead>\n",
       "    <tr style=\"text-align: right;\">\n",
       "      <th></th>\n",
       "      <th>Rooms</th>\n",
       "      <th>Price</th>\n",
       "      <th>Propertycount</th>\n",
       "      <th>Distance</th>\n",
       "    </tr>\n",
       "  </thead>\n",
       "  <tbody>\n",
       "    <tr>\n",
       "      <th>count</th>\n",
       "      <td>48433.000000</td>\n",
       "      <td>4.843300e+04</td>\n",
       "      <td>48433.000000</td>\n",
       "      <td>48433.000000</td>\n",
       "    </tr>\n",
       "    <tr>\n",
       "      <th>mean</th>\n",
       "      <td>3.071666</td>\n",
       "      <td>9.978982e+05</td>\n",
       "      <td>7566.399913</td>\n",
       "      <td>12.702761</td>\n",
       "    </tr>\n",
       "    <tr>\n",
       "      <th>std</th>\n",
       "      <td>0.944708</td>\n",
       "      <td>5.934989e+05</td>\n",
       "      <td>4457.405884</td>\n",
       "      <td>7.550030</td>\n",
       "    </tr>\n",
       "    <tr>\n",
       "      <th>min</th>\n",
       "      <td>1.000000</td>\n",
       "      <td>8.500000e+04</td>\n",
       "      <td>39.000000</td>\n",
       "      <td>0.000000</td>\n",
       "    </tr>\n",
       "    <tr>\n",
       "      <th>1%</th>\n",
       "      <td>1.000000</td>\n",
       "      <td>3.120000e+05</td>\n",
       "      <td>852.000000</td>\n",
       "      <td>1.800000</td>\n",
       "    </tr>\n",
       "    <tr>\n",
       "      <th>10%</th>\n",
       "      <td>2.000000</td>\n",
       "      <td>4.800400e+05</td>\n",
       "      <td>2674.000000</td>\n",
       "      <td>4.300000</td>\n",
       "    </tr>\n",
       "    <tr>\n",
       "      <th>25%</th>\n",
       "      <td>2.000000</td>\n",
       "      <td>6.200000e+05</td>\n",
       "      <td>4280.000000</td>\n",
       "      <td>7.000000</td>\n",
       "    </tr>\n",
       "    <tr>\n",
       "      <th>50%</th>\n",
       "      <td>3.000000</td>\n",
       "      <td>8.300000e+05</td>\n",
       "      <td>6567.000000</td>\n",
       "      <td>11.700000</td>\n",
       "    </tr>\n",
       "    <tr>\n",
       "      <th>75%</th>\n",
       "      <td>4.000000</td>\n",
       "      <td>1.220000e+06</td>\n",
       "      <td>10412.000000</td>\n",
       "      <td>16.700000</td>\n",
       "    </tr>\n",
       "    <tr>\n",
       "      <th>90%</th>\n",
       "      <td>4.000000</td>\n",
       "      <td>1.700000e+06</td>\n",
       "      <td>14577.000000</td>\n",
       "      <td>21.500000</td>\n",
       "    </tr>\n",
       "    <tr>\n",
       "      <th>95%</th>\n",
       "      <td>5.000000</td>\n",
       "      <td>2.100000e+06</td>\n",
       "      <td>15510.000000</td>\n",
       "      <td>26.500000</td>\n",
       "    </tr>\n",
       "    <tr>\n",
       "      <th>99%</th>\n",
       "      <td>5.000000</td>\n",
       "      <td>3.200000e+06</td>\n",
       "      <td>21650.000000</td>\n",
       "      <td>38.000000</td>\n",
       "    </tr>\n",
       "    <tr>\n",
       "      <th>max</th>\n",
       "      <td>31.000000</td>\n",
       "      <td>1.120000e+07</td>\n",
       "      <td>21650.000000</td>\n",
       "      <td>55.800000</td>\n",
       "    </tr>\n",
       "  </tbody>\n",
       "</table>\n",
       "</div>"
      ],
      "text/plain": [
       "              Rooms         Price  Propertycount      Distance\n",
       "count  48433.000000  4.843300e+04   48433.000000  48433.000000\n",
       "mean       3.071666  9.978982e+05    7566.399913     12.702761\n",
       "std        0.944708  5.934989e+05    4457.405884      7.550030\n",
       "min        1.000000  8.500000e+04      39.000000      0.000000\n",
       "1%         1.000000  3.120000e+05     852.000000      1.800000\n",
       "10%        2.000000  4.800400e+05    2674.000000      4.300000\n",
       "25%        2.000000  6.200000e+05    4280.000000      7.000000\n",
       "50%        3.000000  8.300000e+05    6567.000000     11.700000\n",
       "75%        4.000000  1.220000e+06   10412.000000     16.700000\n",
       "90%        4.000000  1.700000e+06   14577.000000     21.500000\n",
       "95%        5.000000  2.100000e+06   15510.000000     26.500000\n",
       "99%        5.000000  3.200000e+06   21650.000000     38.000000\n",
       "max       31.000000  1.120000e+07   21650.000000     55.800000"
      ]
     },
     "execution_count": 121,
     "metadata": {},
     "output_type": "execute_result"
    }
   ],
   "source": [
    "df.describe(percentiles = [0.01,.1,.25,.5,.75,.9,.95,.99 ])"
   ]
  },
  {
   "cell_type": "markdown",
   "metadata": {},
   "source": [
    "we think Price , Propertycount and Distance have proplem"
   ]
  },
  {
   "cell_type": "code",
   "execution_count": 122,
   "metadata": {},
   "outputs": [
    {
     "data": {
      "text/plain": [
       "(array([2.000e+01, 3.980e+02, 2.056e+03, 4.559e+03, 6.538e+03, 6.635e+03,\n",
       "        5.494e+03, 4.410e+03, 2.974e+03, 2.504e+03, 2.809e+03, 2.028e+03,\n",
       "        1.521e+03, 1.152e+03, 1.065e+03, 7.800e+02, 6.240e+02, 4.180e+02,\n",
       "        3.300e+02, 4.100e+02, 2.730e+02, 2.240e+02, 1.610e+02, 1.620e+02,\n",
       "        1.380e+02, 9.100e+01, 1.020e+02, 6.400e+01, 7.400e+01, 5.000e+01,\n",
       "        3.600e+01, 3.700e+01, 4.000e+01, 4.000e+01, 1.900e+01, 2.300e+01,\n",
       "        9.000e+00, 1.600e+01, 1.000e+01, 2.100e+01, 1.400e+01, 1.200e+01,\n",
       "        9.000e+00, 4.000e+00, 1.300e+01, 5.000e+00, 8.000e+00, 3.000e+00,\n",
       "        1.400e+01, 5.000e+00, 4.000e+00, 3.000e+00, 1.000e+00, 3.000e+00,\n",
       "        2.000e+00, 3.000e+00, 3.000e+00, 3.000e+00, 2.000e+00, 1.000e+00,\n",
       "        1.000e+00, 0.000e+00, 1.000e+00, 0.000e+00, 0.000e+00, 0.000e+00,\n",
       "        0.000e+00, 0.000e+00, 1.000e+00, 0.000e+00, 0.000e+00, 1.000e+00,\n",
       "        0.000e+00, 0.000e+00, 0.000e+00, 0.000e+00, 0.000e+00, 0.000e+00,\n",
       "        0.000e+00, 0.000e+00, 1.000e+00, 0.000e+00, 0.000e+00, 0.000e+00,\n",
       "        0.000e+00, 0.000e+00, 0.000e+00, 0.000e+00, 0.000e+00, 0.000e+00,\n",
       "        0.000e+00, 0.000e+00, 0.000e+00, 0.000e+00, 0.000e+00, 0.000e+00,\n",
       "        0.000e+00, 0.000e+00, 0.000e+00, 1.000e+00]),\n",
       " array([   85000.,   196150.,   307300.,   418450.,   529600.,   640750.,\n",
       "          751900.,   863050.,   974200.,  1085350.,  1196500.,  1307650.,\n",
       "         1418800.,  1529950.,  1641100.,  1752250.,  1863400.,  1974550.,\n",
       "         2085700.,  2196850.,  2308000.,  2419150.,  2530300.,  2641450.,\n",
       "         2752600.,  2863750.,  2974900.,  3086050.,  3197200.,  3308350.,\n",
       "         3419500.,  3530650.,  3641800.,  3752950.,  3864100.,  3975250.,\n",
       "         4086400.,  4197550.,  4308700.,  4419850.,  4531000.,  4642150.,\n",
       "         4753300.,  4864450.,  4975600.,  5086750.,  5197900.,  5309050.,\n",
       "         5420200.,  5531350.,  5642500.,  5753650.,  5864800.,  5975950.,\n",
       "         6087100.,  6198250.,  6309400.,  6420550.,  6531700.,  6642850.,\n",
       "         6754000.,  6865150.,  6976300.,  7087450.,  7198600.,  7309750.,\n",
       "         7420900.,  7532050.,  7643200.,  7754350.,  7865500.,  7976650.,\n",
       "         8087800.,  8198950.,  8310100.,  8421250.,  8532400.,  8643550.,\n",
       "         8754700.,  8865850.,  8977000.,  9088150.,  9199300.,  9310450.,\n",
       "         9421600.,  9532750.,  9643900.,  9755050.,  9866200.,  9977350.,\n",
       "        10088500., 10199650., 10310800., 10421950., 10533100., 10644250.,\n",
       "        10755400., 10866550., 10977700., 11088850., 11200000.]),\n",
       " <BarContainer object of 100 artists>)"
      ]
     },
     "execution_count": 122,
     "metadata": {},
     "output_type": "execute_result"
    },
    {
     "data": {
      "image/png": "[encoded data removed]",
      "text/plain": [
       "<Figure size 432x288 with 1 Axes>"
      ]
     },
     "metadata": {
      "needs_background": "light"
     },
     "output_type": "display_data"
    }
   ],
   "source": [
    "\n",
    "plt.hist(df.Price.values,bins = 100)"
   ]
  },
  {
   "cell_type": "markdown",
   "metadata": {},
   "source": [
    "the Price has long tail distribution. it must transform to normal distribution"
   ]
  },
  {
   "cell_type": "code",
   "execution_count": 123,
   "metadata": {},
   "outputs": [
    {
     "data": {
      "text/plain": [
       "(array([1.000e+00, 0.000e+00, 0.000e+00, 0.000e+00, 0.000e+00, 5.000e+00,\n",
       "        0.000e+00, 1.000e+00, 1.000e+00, 1.000e+00, 2.000e+00, 1.000e+00,\n",
       "        1.000e+00, 0.000e+00, 2.000e+00, 2.000e+00, 3.000e+00, 2.000e+00,\n",
       "        6.000e+00, 1.400e+01, 6.000e+00, 2.600e+01, 4.400e+01, 5.300e+01,\n",
       "        8.300e+01, 1.370e+02, 1.420e+02, 1.940e+02, 2.670e+02, 2.400e+02,\n",
       "        4.120e+02, 4.970e+02, 6.430e+02, 6.360e+02, 8.690e+02, 1.049e+03,\n",
       "        1.137e+03, 1.272e+03, 1.467e+03, 1.420e+03, 2.020e+03, 2.232e+03,\n",
       "        1.862e+03, 2.018e+03, 2.021e+03, 2.091e+03, 1.819e+03, 1.852e+03,\n",
       "        1.909e+03, 1.749e+03, 1.542e+03, 1.156e+03, 1.288e+03, 1.242e+03,\n",
       "        1.430e+03, 1.530e+03, 1.209e+03, 1.168e+03, 1.022e+03, 7.140e+02,\n",
       "        8.680e+02, 7.850e+02, 6.080e+02, 5.970e+02, 4.650e+02, 3.570e+02,\n",
       "        3.040e+02, 3.000e+02, 3.040e+02, 1.910e+02, 1.980e+02, 1.880e+02,\n",
       "        1.130e+02, 1.320e+02, 9.400e+01, 6.200e+01, 6.100e+01, 6.800e+01,\n",
       "        4.700e+01, 2.000e+01, 2.300e+01, 3.500e+01, 2.000e+01, 2.100e+01,\n",
       "        1.000e+01, 2.200e+01, 7.000e+00, 5.000e+00, 9.000e+00, 4.000e+00,\n",
       "        1.000e+00, 0.000e+00, 1.000e+00, 1.000e+00, 0.000e+00, 1.000e+00,\n",
       "        0.000e+00, 0.000e+00, 0.000e+00, 1.000e+00]),\n",
       " array([11.35040654, 11.39921671, 11.44802689, 11.49683707, 11.54564725,\n",
       "        11.59445743, 11.6432676 , 11.69207778, 11.74088796, 11.78969814,\n",
       "        11.83850832, 11.88731849, 11.93612867, 11.98493885, 12.03374903,\n",
       "        12.08255921, 12.13136938, 12.18017956, 12.22898974, 12.27779992,\n",
       "        12.3266101 , 12.37542027, 12.42423045, 12.47304063, 12.52185081,\n",
       "        12.57066099, 12.61947116, 12.66828134, 12.71709152, 12.7659017 ,\n",
       "        12.81471188, 12.86352205, 12.91233223, 12.96114241, 13.00995259,\n",
       "        13.05876277, 13.10757294, 13.15638312, 13.2051933 , 13.25400348,\n",
       "        13.30281366, 13.35162383, 13.40043401, 13.44924419, 13.49805437,\n",
       "        13.54686455, 13.59567472, 13.6444849 , 13.69329508, 13.74210526,\n",
       "        13.79091544, 13.83972561, 13.88853579, 13.93734597, 13.98615615,\n",
       "        14.03496633, 14.0837765 , 14.13258668, 14.18139686, 14.23020704,\n",
       "        14.27901722, 14.32782739, 14.37663757, 14.42544775, 14.47425793,\n",
       "        14.52306811, 14.57187828, 14.62068846, 14.66949864, 14.71830882,\n",
       "        14.767119  , 14.81592917, 14.86473935, 14.91354953, 14.96235971,\n",
       "        15.01116989, 15.05998006, 15.10879024, 15.15760042, 15.2064106 ,\n",
       "        15.25522078, 15.30403095, 15.35284113, 15.40165131, 15.45046149,\n",
       "        15.49927167, 15.54808184, 15.59689202, 15.6457022 , 15.69451238,\n",
       "        15.74332256, 15.79213273, 15.84094291, 15.88975309, 15.93856327,\n",
       "        15.98737345, 16.03618362, 16.0849938 , 16.13380398, 16.18261416,\n",
       "        16.23142434]),\n",
       " <BarContainer object of 100 artists>)"
      ]
     },
     "execution_count": 123,
     "metadata": {},
     "output_type": "execute_result"
    },
    {
     "data": {
      "image/png": "[encoded data removed]",
      "text/plain": [
       "<Figure size 432x288 with 1 Axes>"
      ]
     },
     "metadata": {
      "needs_background": "light"
     },
     "output_type": "display_data"
    }
   ],
   "source": [
    "df['Log_Price'] = np.log(df['Price'])\n",
    "plt.hist(df.Log_Price.values,bins = 100)"
   ]
  },
  {
   "cell_type": "markdown",
   "metadata": {},
   "source": [
    "has outline at the Price when sen this chart"
   ]
  },
  {
   "cell_type": "code",
   "execution_count": 124,
   "metadata": {},
   "outputs": [
    {
     "data": {
      "text/plain": [
       "{'whiskers': [<matplotlib.lines.Line2D at 0x7f4467381da0>,\n",
       "  <matplotlib.lines.Line2D at 0x7f44673bc518>],\n",
       " 'caps': [<matplotlib.lines.Line2D at 0x7f44673b4828>,\n",
       "  <matplotlib.lines.Line2D at 0x7f44673574a8>],\n",
       " 'boxes': [<matplotlib.lines.Line2D at 0x7f44677175c0>],\n",
       " 'medians': [<matplotlib.lines.Line2D at 0x7f4467357780>],\n",
       " 'fliers': [<matplotlib.lines.Line2D at 0x7f4467357198>],\n",
       " 'means': []}"
      ]
     },
     "execution_count": 124,
     "metadata": {},
     "output_type": "execute_result"
    },
    {
     "data": {
      "image/png": "[encoded data removed]",
      "text/plain": [
       "<Figure size 432x288 with 1 Axes>"
      ]
     },
     "metadata": {
      "needs_background": "light"
     },
     "output_type": "display_data"
    }
   ],
   "source": [
    "plt.boxplot(df['Log_Price'].values)"
   ]
  },
  {
   "cell_type": "markdown",
   "metadata": {},
   "source": [
    "beginning remove outline"
   ]
  },
  {
   "cell_type": "code",
   "execution_count": 125,
   "metadata": {},
   "outputs": [
    {
     "name": "stdout",
     "output_type": "stream",
     "text": [
      "shape before remove: (48433, 13)\n",
      "shape affter remove: (46272, 13)\n"
     ]
    },
    {
     "data": {
      "text/plain": [
       "{'whiskers': [<matplotlib.lines.Line2D at 0x7f4467727a58>,\n",
       "  <matplotlib.lines.Line2D at 0x7f4467727550>],\n",
       " 'caps': [<matplotlib.lines.Line2D at 0x7f4467727208>,\n",
       "  <matplotlib.lines.Line2D at 0x7f4467744470>],\n",
       " 'boxes': [<matplotlib.lines.Line2D at 0x7f4467727d30>],\n",
       " 'medians': [<matplotlib.lines.Line2D at 0x7f44677446a0>],\n",
       " 'fliers': [<matplotlib.lines.Line2D at 0x7f4467744898>],\n",
       " 'means': []}"
      ]
     },
     "execution_count": 125,
     "metadata": {},
     "output_type": "execute_result"
    },
    {
     "data": {
      "image/png": "[encoded data removed]",
      "text/plain": [
       "<Figure size 432x288 with 1 Axes>"
      ]
     },
     "metadata": {
      "needs_background": "light"
     },
     "output_type": "display_data"
    }
   ],
   "source": [
    "def remove_outline(df,name,option = 1):\n",
    "    mean = np.mean(df[name].values)\n",
    "    std  = np.std(df[name].values)\n",
    "    print('shape before remove: {}'.format(df.shape))\n",
    "    df = df.loc[ (df[name] <= (mean+option*std)) & (df[name] >= (mean-option*std))  ]\n",
    "    print('shape affter remove: {}'.format(df.shape))\n",
    "    return df\n",
    "\n",
    "df_new = remove_outline(df,name = 'Log_Price',option=2)\n",
    "plt.boxplot(df_new['Log_Price'].values)"
   ]
  },
  {
   "cell_type": "code",
   "execution_count": 127,
   "metadata": {},
   "outputs": [
    {
     "name": "stdout",
     "output_type": "stream",
     "text": [
      "shape affter remove: (46272, 13)\n"
     ]
    },
    {
     "data": {
      "text/plain": [
       "(array([6.500e+02, 3.078e+03, 4.101e+03, 4.625e+03, 4.159e+03, 4.310e+03,\n",
       "        4.843e+03, 5.095e+03, 3.841e+03, 3.405e+03, 1.552e+03, 2.386e+03,\n",
       "        7.730e+02, 1.046e+03, 5.810e+02, 1.200e+02, 2.350e+02, 3.960e+02,\n",
       "        2.830e+02, 1.620e+02, 4.070e+02, 3.000e+00, 3.200e+01, 3.700e+01,\n",
       "        9.400e+01, 5.600e+01, 1.000e+00, 0.000e+00, 0.000e+00, 1.000e+00]),\n",
       " array([ 0.  ,  1.86,  3.72,  5.58,  7.44,  9.3 , 11.16, 13.02, 14.88,\n",
       "        16.74, 18.6 , 20.46, 22.32, 24.18, 26.04, 27.9 , 29.76, 31.62,\n",
       "        33.48, 35.34, 37.2 , 39.06, 40.92, 42.78, 44.64, 46.5 , 48.36,\n",
       "        50.22, 52.08, 53.94, 55.8 ]),\n",
       " <BarContainer object of 30 artists>)"
      ]
     },
     "execution_count": 127,
     "metadata": {},
     "output_type": "execute_result"
    },
    {
     "data": {
      "image/png": "[encoded data removed]",
      "text/plain": [
       "<Figure size 432x288 with 1 Axes>"
      ]
     },
     "metadata": {
      "needs_background": "light"
     },
     "output_type": "display_data"
    }
   ],
   "source": [
    "df = df_new\n",
    "plt.hist(df.Distance.values,bins = 30)"
   ]
  },
  {
   "cell_type": "markdown",
   "metadata": {},
   "source": [
    "This picture show have outline in range 40 to 50"
   ]
  },
  {
   "cell_type": "code",
   "execution_count": 134,
   "metadata": {},
   "outputs": [
    {
     "name": "stdout",
     "output_type": "stream",
     "text": [
      "shape before remove: (45607, 13)\n",
      "shape affter remove: (45176, 13)\n"
     ]
    },
    {
     "data": {
      "text/plain": [
       "{'whiskers': [<matplotlib.lines.Line2D at 0x7f4466e61550>,\n",
       "  <matplotlib.lines.Line2D at 0x7f4466e61828>],\n",
       " 'caps': [<matplotlib.lines.Line2D at 0x7f4466e61b00>,\n",
       "  <matplotlib.lines.Line2D at 0x7f4466e61dd8>],\n",
       " 'boxes': [<matplotlib.lines.Line2D at 0x7f4466e612e8>],\n",
       " 'medians': [<matplotlib.lines.Line2D at 0x7f4466e6e0f0>],\n",
       " 'fliers': [<matplotlib.lines.Line2D at 0x7f4466e6e3c8>],\n",
       " 'means': []}"
      ]
     },
     "execution_count": 134,
     "metadata": {},
     "output_type": "execute_result"
    },
    {
     "data": {
      "image/png": "[encoded data removed]",
      "text/plain": [
       "<Figure size 432x288 with 1 Axes>"
      ]
     },
     "metadata": {
      "needs_background": "light"
     },
     "output_type": "display_data"
    }
   ],
   "source": [
    "df = df_new\n",
    "df_new = remove_outline(df,name = \"Distance\",option = 3)\n",
    "plt.boxplot(df_new.Distance.values)"
   ]
  },
  {
   "cell_type": "code",
   "execution_count": 136,
   "metadata": {},
   "outputs": [
    {
     "data": {
      "text/plain": [
       "(array([ 945., 1595., 4994., 4581., 5777., 4745., 4172., 3162., 3003.,\n",
       "        2099., 3876.,    0., 1802., 1600., 1575.,    0.,  199.,    0.,\n",
       "           0., 1051.]),\n",
       " array([   83.  ,  1161.35,  2239.7 ,  3318.05,  4396.4 ,  5474.75,\n",
       "         6553.1 ,  7631.45,  8709.8 ,  9788.15, 10866.5 , 11944.85,\n",
       "        13023.2 , 14101.55, 15179.9 , 16258.25, 17336.6 , 18414.95,\n",
       "        19493.3 , 20571.65, 21650.  ]),\n",
       " <BarContainer object of 20 artists>)"
      ]
     },
     "execution_count": 136,
     "metadata": {},
     "output_type": "execute_result"
    },
    {
     "data": {
      "image/png": "[encoded data removed]",
      "text/plain": [
       "<Figure size 432x288 with 1 Axes>"
      ]
     },
     "metadata": {
      "needs_background": "light"
     },
     "output_type": "display_data"
    }
   ],
   "source": [
    "df = df_new\n",
    "plt.hist(df.Propertycount.values,bins = 20)"
   ]
  },
  {
   "cell_type": "markdown",
   "metadata": {},
   "source": [
    "have outline Propertycount > 20000"
   ]
  },
  {
   "cell_type": "code",
   "execution_count": 146,
   "metadata": {},
   "outputs": [
    {
     "name": "stdout",
     "output_type": "stream",
     "text": [
      "shape affter remove: (44125, 13)\n"
     ]
    },
    {
     "data": {
      "text/html": [
       "<div>\n",
       "<style scoped>\n",
       "    .dataframe tbody tr th:only-of-type {\n",
       "        vertical-align: middle;\n",
       "    }\n",
       "\n",
       "    .dataframe tbody tr th {\n",
       "        vertical-align: top;\n",
       "    }\n",
       "\n",
       "    .dataframe thead th {\n",
       "        text-align: right;\n",
       "    }\n",
       "</style>\n",
       "<table border=\"1\" class=\"dataframe\">\n",
       "  <thead>\n",
       "    <tr style=\"text-align: right;\">\n",
       "      <th></th>\n",
       "      <th>Suburb</th>\n",
       "      <th>Address</th>\n",
       "      <th>Type</th>\n",
       "      <th>Method</th>\n",
       "      <th>SellerG</th>\n",
       "      <th>Date</th>\n",
       "      <th>Regionname</th>\n",
       "      <th>CouncilArea</th>\n",
       "    </tr>\n",
       "  </thead>\n",
       "  <tbody>\n",
       "    <tr>\n",
       "      <th>count</th>\n",
       "      <td>44125</td>\n",
       "      <td>44125</td>\n",
       "      <td>44125</td>\n",
       "      <td>44125</td>\n",
       "      <td>44125</td>\n",
       "      <td>44125</td>\n",
       "      <td>44125</td>\n",
       "      <td>44125</td>\n",
       "    </tr>\n",
       "    <tr>\n",
       "      <th>unique</th>\n",
       "      <td>321</td>\n",
       "      <td>40858</td>\n",
       "      <td>3</td>\n",
       "      <td>5</td>\n",
       "      <td>395</td>\n",
       "      <td>112</td>\n",
       "      <td>8</td>\n",
       "      <td>28</td>\n",
       "    </tr>\n",
       "    <tr>\n",
       "      <th>top</th>\n",
       "      <td>Bentleigh East</td>\n",
       "      <td>14 Moray St</td>\n",
       "      <td>h</td>\n",
       "      <td>S</td>\n",
       "      <td>Barry</td>\n",
       "      <td>24/03/2018</td>\n",
       "      <td>Northern Metropolitan</td>\n",
       "      <td>Banyule City Council</td>\n",
       "    </tr>\n",
       "    <tr>\n",
       "      <th>freq</th>\n",
       "      <td>696</td>\n",
       "      <td>7</td>\n",
       "      <td>30860</td>\n",
       "      <td>28154</td>\n",
       "      <td>4448</td>\n",
       "      <td>797</td>\n",
       "      <td>12225</td>\n",
       "      <td>2865</td>\n",
       "    </tr>\n",
       "  </tbody>\n",
       "</table>\n",
       "</div>"
      ],
      "text/plain": [
       "                Suburb      Address   Type Method SellerG        Date  \\\n",
       "count            44125        44125  44125  44125   44125       44125   \n",
       "unique             321        40858      3      5     395         112   \n",
       "top     Bentleigh East  14 Moray St      h      S   Barry  24/03/2018   \n",
       "freq               696            7  30860  28154    4448         797   \n",
       "\n",
       "                   Regionname           CouncilArea  \n",
       "count                   44125                 44125  \n",
       "unique                      8                    28  \n",
       "top     Northern Metropolitan  Banyule City Council  \n",
       "freq                    12225                  2865  "
      ]
     },
     "execution_count": 146,
     "metadata": {},
     "output_type": "execute_result"
    }
   ],
   "source": [
    "df = df.loc[df['Propertycount'] <= 20000]\n",
    "print('shape affter remove: {}'.format(df.shape))\n",
    "df.describe(include = 'O')"
   ]
  },
  {
   "cell_type": "markdown",
   "metadata": {},
   "source": [
    "we can see:\n",
    "* the Address has  unique very hight.\n",
    "*  SellerG and Suburb have unique hight"
   ]
  },
  {
   "cell_type": "code",
   "execution_count": 142,
   "metadata": {},
   "outputs": [
    {
     "data": {
      "text/html": [
       "<div>\n",
       "<style scoped>\n",
       "    .dataframe tbody tr th:only-of-type {\n",
       "        vertical-align: middle;\n",
       "    }\n",
       "\n",
       "    .dataframe tbody tr th {\n",
       "        vertical-align: top;\n",
       "    }\n",
       "\n",
       "    .dataframe thead th {\n",
       "        text-align: right;\n",
       "    }\n",
       "</style>\n",
       "<table border=\"1\" class=\"dataframe\">\n",
       "  <thead>\n",
       "    <tr style=\"text-align: right;\">\n",
       "      <th></th>\n",
       "      <th>Rooms</th>\n",
       "      <th>Log_Price</th>\n",
       "      <th>Propertycount</th>\n",
       "      <th>Distance</th>\n",
       "    </tr>\n",
       "  </thead>\n",
       "  <tbody>\n",
       "    <tr>\n",
       "      <th>Rooms</th>\n",
       "      <td>1.000000</td>\n",
       "      <td>0.407988</td>\n",
       "      <td>-0.050656</td>\n",
       "      <td>0.337515</td>\n",
       "    </tr>\n",
       "    <tr>\n",
       "      <th>Log_Price</th>\n",
       "      <td>0.407988</td>\n",
       "      <td>1.000000</td>\n",
       "      <td>-0.055363</td>\n",
       "      <td>-0.237975</td>\n",
       "    </tr>\n",
       "    <tr>\n",
       "      <th>Propertycount</th>\n",
       "      <td>-0.050656</td>\n",
       "      <td>-0.055363</td>\n",
       "      <td>1.000000</td>\n",
       "      <td>-0.042378</td>\n",
       "    </tr>\n",
       "    <tr>\n",
       "      <th>Distance</th>\n",
       "      <td>0.337515</td>\n",
       "      <td>-0.237975</td>\n",
       "      <td>-0.042378</td>\n",
       "      <td>1.000000</td>\n",
       "    </tr>\n",
       "  </tbody>\n",
       "</table>\n",
       "</div>"
      ],
      "text/plain": [
       "                  Rooms  Log_Price  Propertycount  Distance\n",
       "Rooms          1.000000   0.407988      -0.050656  0.337515\n",
       "Log_Price      0.407988   1.000000      -0.055363 -0.237975\n",
       "Propertycount -0.050656  -0.055363       1.000000 -0.042378\n",
       "Distance       0.337515  -0.237975      -0.042378  1.000000"
      ]
     },
     "execution_count": 142,
     "metadata": {},
     "output_type": "execute_result"
    }
   ],
   "source": [
    "df_numberic = df[['Rooms','Log_Price','Propertycount','Distance']] \n",
    "df_numberic.corr()"
   ]
  },
  {
   "cell_type": "markdown",
   "metadata": {},
   "source": [
    "the data focus on the number of rooms is 4."
   ]
  },
  {
   "cell_type": "code",
   "execution_count": 147,
   "metadata": {},
   "outputs": [],
   "source": [
    "df_object = df.select_dtypes(include = 'object')"
   ]
  },
  {
   "cell_type": "code",
   "execution_count": 148,
   "metadata": {},
   "outputs": [
    {
     "name": "stdout",
     "output_type": "stream",
     "text": [
      "<class 'pandas.core.frame.DataFrame'>\n",
      "Int64Index: 44125 entries, 0 to 63020\n",
      "Data columns (total 8 columns):\n",
      " #   Column       Non-Null Count  Dtype \n",
      "---  ------       --------------  ----- \n",
      " 0   Suburb       44125 non-null  object\n",
      " 1   Address      44125 non-null  object\n",
      " 2   Type         44125 non-null  object\n",
      " 3   Method       44125 non-null  object\n",
      " 4   SellerG      44125 non-null  object\n",
      " 5   Date         44125 non-null  object\n",
      " 6   Regionname   44125 non-null  object\n",
      " 7   CouncilArea  44125 non-null  object\n",
      "dtypes: object(8)\n",
      "memory usage: 3.0+ MB\n"
     ]
    }
   ],
   "source": [
    "df_object.info()"
   ]
  },
  {
   "cell_type": "code",
   "execution_count": 191,
   "metadata": {},
   "outputs": [],
   "source": [
    "def draw_top_class(df,name,tops = 5):\n",
    "    tops = min(tops,len(df[name].unique()))\n",
    "    names_class = df[name].value_counts()[:tops].index.tolist()\n",
    "    print('shape before filter: {}'.format(df.shape))\n",
    "    df = df.loc[df[name].isin(names_class)]\n",
    "    print('shape affter filter: {}'.format(df.shape))\n",
    "    ax = sns.boxplot(x =name,y=\"Log_Price\",data=df)"
   ]
  },
  {
   "cell_type": "code",
   "execution_count": 192,
   "metadata": {},
   "outputs": [
    {
     "name": "stdout",
     "output_type": "stream",
     "text": [
      "shape before filter: (44125, 13)\n",
      "shape affter filter: (3028, 13)\n"
     ]
    },
    {
     "data": {
      "image/png": "[encoded data removed]",
      "text/plain": [
       "<Figure size 432x288 with 1 Axes>"
      ]
     },
     "metadata": {
      "needs_background": "light"
     },
     "output_type": "display_data"
    }
   ],
   "source": [
    "draw_top_class(df,name = 'Suburb')"
   ]
  },
  {
   "cell_type": "markdown",
   "metadata": {},
   "source": [
    "There are differences between suburbs.  Craigieburn has the lowest price. "
   ]
  },
  {
   "cell_type": "code",
   "execution_count": 194,
   "metadata": {},
   "outputs": [
    {
     "name": "stdout",
     "output_type": "stream",
     "text": [
      "shape before filter: (44125, 13)\n",
      "shape affter filter: (44125, 13)\n"
     ]
    },
    {
     "data": {
      "image/png": "[encoded data removed]",
      "text/plain": [
       "<Figure size 432x288 with 1 Axes>"
      ]
     },
     "metadata": {
      "needs_background": "light"
     },
     "output_type": "display_data"
    }
   ],
   "source": [
    "draw_top_class(df,name = 'Type')"
   ]
  },
  {
   "cell_type": "markdown",
   "metadata": {},
   "source": [
    "There are differences between Types. u has the lowest price."
   ]
  },
  {
   "cell_type": "code",
   "execution_count": 197,
   "metadata": {},
   "outputs": [
    {
     "name": "stdout",
     "output_type": "stream",
     "text": [
      "shape before filter: (44125, 13)\n",
      "shape affter filter: (44125, 13)\n"
     ]
    },
    {
     "data": {
      "image/png": "[encoded data removed]",
      "text/plain": [
       "<Figure size 432x288 with 1 Axes>"
      ]
     },
     "metadata": {
      "needs_background": "light"
     },
     "output_type": "display_data"
    }
   ],
   "source": [
    "draw_top_class(df,name = 'Method',tops = 10)"
   ]
  },
  {
   "cell_type": "markdown",
   "metadata": {},
   "source": [
    "There are same same between Method"
   ]
  },
  {
   "cell_type": "code",
   "execution_count": 201,
   "metadata": {},
   "outputs": [
    {
     "name": "stdout",
     "output_type": "stream",
     "text": [
      "shape before filter: (44125, 13)\n",
      "shape affter filter: (24966, 13)\n"
     ]
    },
    {
     "data": {
      "image/png": "[encoded data removed]",
      "text/plain": [
       "<Figure size 432x288 with 1 Axes>"
      ]
     },
     "metadata": {
      "needs_background": "light"
     },
     "output_type": "display_data"
    }
   ],
   "source": [
    "draw_top_class(df,name = 'SellerG',tops = 10)"
   ]
  },
  {
   "cell_type": "markdown",
   "metadata": {},
   "source": [
    "There are differences between SellerGs. YPA has the lowest price."
   ]
  },
  {
   "cell_type": "code",
   "execution_count": 202,
   "metadata": {},
   "outputs": [
    {
     "name": "stdout",
     "output_type": "stream",
     "text": [
      "shape before filter: (44125, 13)\n",
      "shape affter filter: (44125, 13)\n"
     ]
    },
    {
     "data": {
      "image/png": "[encoded data removed]",
      "text/plain": [
       "<Figure size 432x288 with 1 Axes>"
      ]
     },
     "metadata": {
      "needs_background": "light"
     },
     "output_type": "display_data"
    }
   ],
   "source": [
    "draw_top_class(df,name = 'Regionname',tops = 10)"
   ]
  },
  {
   "cell_type": "markdown",
   "metadata": {},
   "source": [
    "There are differences between SellerGs."
   ]
  },
  {
   "cell_type": "code",
   "execution_count": 203,
   "metadata": {},
   "outputs": [
    {
     "name": "stdout",
     "output_type": "stream",
     "text": [
      "shape before filter: (44125, 13)\n",
      "shape affter filter: (24504, 13)\n"
     ]
    },
    {
     "data": {
      "image/png": "[encoded data removed]",
      "text/plain": [
       "<Figure size 432x288 with 1 Axes>"
      ]
     },
     "metadata": {
      "needs_background": "light"
     },
     "output_type": "display_data"
    }
   ],
   "source": [
    "\n",
    "draw_top_class(df,name = 'CouncilArea',tops = 10)"
   ]
  },
  {
   "cell_type": "markdown",
   "metadata": {},
   "source": [
    "There are differences between SellerGs."
   ]
  },
  {
   "cell_type": "code",
   "execution_count": 204,
   "metadata": {},
   "outputs": [],
   "source": [
    "df = df.drop(['Address'],axis = 1)"
   ]
  },
  {
   "cell_type": "code",
   "execution_count": 205,
   "metadata": {},
   "outputs": [
    {
     "name": "stdout",
     "output_type": "stream",
     "text": [
      "<class 'pandas.core.frame.DataFrame'>\n",
      "Int64Index: 44125 entries, 0 to 63020\n",
      "Data columns (total 12 columns):\n",
      " #   Column         Non-Null Count  Dtype  \n",
      "---  ------         --------------  -----  \n",
      " 0   Suburb         44125 non-null  object \n",
      " 1   Rooms          44125 non-null  int64  \n",
      " 2   Type           44125 non-null  object \n",
      " 3   Price          44125 non-null  float64\n",
      " 4   Method         44125 non-null  object \n",
      " 5   SellerG        44125 non-null  object \n",
      " 6   Date           44125 non-null  object \n",
      " 7   Regionname     44125 non-null  object \n",
      " 8   Propertycount  44125 non-null  int64  \n",
      " 9   Distance       44125 non-null  float64\n",
      " 10  CouncilArea    44125 non-null  object \n",
      " 11  Log_Price      44125 non-null  float64\n",
      "dtypes: float64(3), int64(2), object(7)\n",
      "memory usage: 4.4+ MB\n"
     ]
    }
   ],
   "source": [
    "df.info()"
   ]
  },
  {
   "cell_type": "code",
   "execution_count": null,
   "metadata": {},
   "outputs": [],
   "source": []
  }
 ],
 "metadata": {
  "kernelspec": {
   "display_name": "Python 3",
   "language": "python",
   "name": "python3"
  },
  "language_info": {
   "codemirror_mode": {
    "name": "ipython",
    "version": 3
   },
   "file_extension": ".py",
   "mimetype": "text/x-python",
   "name": "python",
   "nbconvert_exporter": "python",
   "pygments_lexer": "ipython3",
   "version": "3.6.9"
  }
 },
 "nbformat": 4,
 "nbformat_minor": 4
}
